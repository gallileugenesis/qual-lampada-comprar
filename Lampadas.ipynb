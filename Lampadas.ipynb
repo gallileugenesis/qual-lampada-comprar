{
 "cells": [
  {
   "cell_type": "code",
   "execution_count": 1,
   "id": "4c16f91a",
   "metadata": {},
   "outputs": [],
   "source": [
    "# Importando as bibliotecas necessárias \n",
    "import pandas as pd\n",
    "import numpy as np\n",
    "\n",
    "import matplotlib.pyplot as plt\n",
    "import seaborn as sns; sns.set()"
   ]
  },
  {
   "cell_type": "code",
   "execution_count": 2,
   "id": "6885e376",
   "metadata": {},
   "outputs": [
    {
     "name": "stdout",
     "output_type": "stream",
     "text": [
      "(40, 2)\n"
     ]
    },
    {
     "data": {
      "text/html": [
       "<div>\n",
       "<style scoped>\n",
       "    .dataframe tbody tr th:only-of-type {\n",
       "        vertical-align: middle;\n",
       "    }\n",
       "\n",
       "    .dataframe tbody tr th {\n",
       "        vertical-align: top;\n",
       "    }\n",
       "\n",
       "    .dataframe thead th {\n",
       "        text-align: right;\n",
       "    }\n",
       "</style>\n",
       "<table border=\"1\" class=\"dataframe\">\n",
       "  <thead>\n",
       "    <tr style=\"text-align: right;\">\n",
       "      <th></th>\n",
       "      <th>A</th>\n",
       "      <th>B</th>\n",
       "    </tr>\n",
       "  </thead>\n",
       "  <tbody>\n",
       "    <tr>\n",
       "      <th>0</th>\n",
       "      <td>684</td>\n",
       "      <td>819</td>\n",
       "    </tr>\n",
       "    <tr>\n",
       "      <th>1</th>\n",
       "      <td>831</td>\n",
       "      <td>907</td>\n",
       "    </tr>\n",
       "    <tr>\n",
       "      <th>2</th>\n",
       "      <td>859</td>\n",
       "      <td>952</td>\n",
       "    </tr>\n",
       "    <tr>\n",
       "      <th>3</th>\n",
       "      <td>893</td>\n",
       "      <td>994</td>\n",
       "    </tr>\n",
       "    <tr>\n",
       "      <th>4</th>\n",
       "      <td>922</td>\n",
       "      <td>1016</td>\n",
       "    </tr>\n",
       "  </tbody>\n",
       "</table>\n",
       "</div>"
      ],
      "text/plain": [
       "     A     B\n",
       "0  684   819\n",
       "1  831   907\n",
       "2  859   952\n",
       "3  893   994\n",
       "4  922  1016"
      ]
     },
     "execution_count": 2,
     "metadata": {},
     "output_type": "execute_result"
    }
   ],
   "source": [
    "# Carregando o banco de dados\n",
    "df = pd.read_excel('data/data-lampadas.xlsx', header=0)\n",
    "print(df.shape) # mostra as dimensões do banco de dados\n",
    "df.head() # mostra as 5 primeiras linhas do banco de dados"
   ]
  },
  {
   "cell_type": "code",
   "execution_count": 3,
   "id": "2288b476",
   "metadata": {},
   "outputs": [
    {
     "name": "stdout",
     "output_type": "stream",
     "text": [
      "<class 'pandas.core.frame.DataFrame'>\n",
      "RangeIndex: 40 entries, 0 to 39\n",
      "Data columns (total 2 columns):\n",
      " #   Column  Non-Null Count  Dtype\n",
      "---  ------  --------------  -----\n",
      " 0   A       40 non-null     int64\n",
      " 1   B       40 non-null     int64\n",
      "dtypes: int64(2)\n",
      "memory usage: 768.0 bytes\n"
     ]
    }
   ],
   "source": [
    "df.info() # mostra algumas informações básicas do banco de dados"
   ]
  },
  {
   "cell_type": "code",
   "execution_count": 4,
   "id": "6e0ed0d6",
   "metadata": {},
   "outputs": [
    {
     "data": {
      "text/html": [
       "<div>\n",
       "<style scoped>\n",
       "    .dataframe tbody tr th:only-of-type {\n",
       "        vertical-align: middle;\n",
       "    }\n",
       "\n",
       "    .dataframe tbody tr th {\n",
       "        vertical-align: top;\n",
       "    }\n",
       "\n",
       "    .dataframe thead th {\n",
       "        text-align: right;\n",
       "    }\n",
       "</style>\n",
       "<table border=\"1\" class=\"dataframe\">\n",
       "  <thead>\n",
       "    <tr style=\"text-align: right;\">\n",
       "      <th></th>\n",
       "      <th>A</th>\n",
       "      <th>B</th>\n",
       "    </tr>\n",
       "  </thead>\n",
       "  <tbody>\n",
       "    <tr>\n",
       "      <th>count</th>\n",
       "      <td>40.000000</td>\n",
       "      <td>40.000000</td>\n",
       "    </tr>\n",
       "    <tr>\n",
       "      <th>mean</th>\n",
       "      <td>909.650000</td>\n",
       "      <td>1018.350000</td>\n",
       "    </tr>\n",
       "    <tr>\n",
       "      <th>std</th>\n",
       "      <td>94.305165</td>\n",
       "      <td>96.901364</td>\n",
       "    </tr>\n",
       "    <tr>\n",
       "      <th>min</th>\n",
       "      <td>684.000000</td>\n",
       "      <td>819.000000</td>\n",
       "    </tr>\n",
       "    <tr>\n",
       "      <th>25%</th>\n",
       "      <td>857.250000</td>\n",
       "      <td>949.750000</td>\n",
       "    </tr>\n",
       "    <tr>\n",
       "      <th>50%</th>\n",
       "      <td>916.500000</td>\n",
       "      <td>1015.500000</td>\n",
       "    </tr>\n",
       "    <tr>\n",
       "      <th>75%</th>\n",
       "      <td>971.250000</td>\n",
       "      <td>1085.500000</td>\n",
       "    </tr>\n",
       "    <tr>\n",
       "      <th>max</th>\n",
       "      <td>1093.000000</td>\n",
       "      <td>1230.000000</td>\n",
       "    </tr>\n",
       "  </tbody>\n",
       "</table>\n",
       "</div>"
      ],
      "text/plain": [
       "                 A            B\n",
       "count    40.000000    40.000000\n",
       "mean    909.650000  1018.350000\n",
       "std      94.305165    96.901364\n",
       "min     684.000000   819.000000\n",
       "25%     857.250000   949.750000\n",
       "50%     916.500000  1015.500000\n",
       "75%     971.250000  1085.500000\n",
       "max    1093.000000  1230.000000"
      ]
     },
     "execution_count": 4,
     "metadata": {},
     "output_type": "execute_result"
    }
   ],
   "source": [
    "df.describe() # mostra algumas estatísticas do banco de dados"
   ]
  },
  {
   "cell_type": "code",
   "execution_count": 5,
   "id": "e71362f0",
   "metadata": {},
   "outputs": [
    {
     "data": {
      "image/png": "[encoded data removed]",
      "text/plain": [
       "<Figure size 576x432 with 1 Axes>"
      ]
     },
     "metadata": {},
     "output_type": "display_data"
    }
   ],
   "source": [
    "# Plota um gráfico de coluna com as médias e desvios padrão de A e B \n",
    "fig, ax = plt.subplots(figsize=(8,6))\n",
    "\n",
    "sns.barplot(data=df)\n",
    "plt.ylabel('Tempo médio de duração (h)')\n",
    "plt.tight_layout()\n",
    "\n",
    "plt.savefig('figuras/tempo_medio.png')\n",
    "plt.show()"
   ]
  },
  {
   "cell_type": "code",
   "execution_count": 6,
   "id": "b365262f",
   "metadata": {},
   "outputs": [
    {
     "data": {
      "image/png": "[encoded data removed]",
      "text/plain": [
       "<Figure size 720x576 with 1 Axes>"
      ]
     },
     "metadata": {},
     "output_type": "display_data"
    }
   ],
   "source": [
    "# Plota o boxplot dos dados\n",
    "\n",
    "fig, ax = plt.subplots(figsize=(10,8))\n",
    "\n",
    "sns.boxplot(data=df)\n",
    "\n",
    "plt.ylabel('Tempo de duração (h)')  \n",
    "\n",
    "plt.savefig('figuras/boxplot.png')\n",
    "\n",
    "plt.show()"
   ]
  },
  {
   "cell_type": "code",
   "execution_count": 7,
   "id": "ce2ffe17",
   "metadata": {},
   "outputs": [
    {
     "data": {
      "image/png": "[encoded data removed]",
      "text/plain": [
       "<Figure size 720x576 with 1 Axes>"
      ]
     },
     "metadata": {},
     "output_type": "display_data"
    }
   ],
   "source": [
    "# Plota o histograma dos dados\n",
    "fig, ax = plt.subplots(figsize=(10,8))\n",
    "\n",
    "sns.histplot(df, kde=True)\n",
    "\n",
    "ax.set_xlabel('Tempo de duração')\n",
    "\n",
    "plt.savefig('figuras/hist.png')\n",
    "plt.show()"
   ]
  },
  {
   "cell_type": "markdown",
   "id": "93e53862",
   "metadata": {},
   "source": [
    "## Computando CI usando Bootstrapping"
   ]
  },
  {
   "cell_type": "markdown",
   "id": "e9d8fe9b",
   "metadata": {},
   "source": [
    "Bootstrapping é um teste / métrica que usa amostragem aleatória com substituição. Ele fornece a medida de precisão (tendência, variância, intervalos de confiança, erro de previsão, etc.) para estimativas de amostra. Ele permite estimar a distribuição amostral para a maioria das estatísticas usando métodos de amostragem aleatória. Também pode ser usado para construir testes de hipóteses"
   ]
  },
  {
   "cell_type": "code",
   "execution_count": 13,
   "id": "3512a2df",
   "metadata": {},
   "outputs": [
    {
     "data": {
      "image/png": "[encoded data removed]",
      "text/plain": [
       "<Figure size 432x288 with 1 Axes>"
      ]
     },
     "metadata": {},
     "output_type": "display_data"
    },
    {
     "name": "stdout",
     "output_type": "stream",
     "text": [
      "\n",
      "95.0 confidence interval 875.9250000000001 and 941.0\n"
     ]
    }
   ],
   "source": [
    "import pandas \n",
    "import numpy \n",
    "from sklearn.utils import resample \n",
    "from sklearn.metrics import accuracy_score \n",
    "from matplotlib import pyplot as plt \n",
    "x = df['A']\n",
    "n_iterations = 1000\n",
    "n_size = int(len(x)) \n",
    "medians = list() \n",
    "for i in range(n_iterations): \n",
    "   s = resample(x, n_samples=n_size); \n",
    "   m = numpy.median(s); \n",
    "   medians.append(m) \n",
    "plt.hist(medians) \n",
    "plt.show() \n",
    "alpha = 0.95\n",
    "p = ((1.0-alpha)/2.0) * 100\n",
    "lower =  numpy.percentile(medians, p) \n",
    "p = (alpha+((1.0-alpha)/2.0)) * 100\n",
    "upper =  numpy.percentile(medians, p) \n",
    "  \n",
    "print(f\"\\n{alpha*100} confidence interval {lower} and {upper}\")"
   ]
  },
  {
   "cell_type": "code",
   "execution_count": 12,
   "id": "0e3381b0",
   "metadata": {},
   "outputs": [
    {
     "data": {
      "image/png": "[encoded data removed]",
      "text/plain": [
       "<Figure size 432x288 with 1 Axes>"
      ]
     },
     "metadata": {},
     "output_type": "display_data"
    },
    {
     "name": "stdout",
     "output_type": "stream",
     "text": [
      "\n",
      "95.0 confidence interval 990.0 and 1055.55\n"
     ]
    }
   ],
   "source": [
    "import pandas \n",
    "import numpy \n",
    "from sklearn.utils import resample \n",
    "from sklearn.metrics import accuracy_score \n",
    "from matplotlib import pyplot as plt \n",
    "x = df['B']\n",
    "n_iterations = 1000\n",
    "n_size = int(len(x)) \n",
    "medians = list() \n",
    "for i in range(n_iterations): \n",
    "   s = resample(x, n_samples=n_size); \n",
    "   m = numpy.median(s); \n",
    "   medians.append(m) \n",
    "plt.hist(medians) \n",
    "plt.show() \n",
    "alpha = 0.95\n",
    "p = ((1.0-alpha)/2.0) * 100\n",
    "lower =  numpy.percentile(medians, p) \n",
    "p = (alpha+((1.0-alpha)/2.0)) * 100\n",
    "upper =  numpy.percentile(medians, p) \n",
    "  \n",
    "print(f\"\\n{alpha*100} confidence interval {lower} and {upper}\")"
   ]
  },
  {
   "cell_type": "code",
   "execution_count": 21,
   "id": "5a039c12",
   "metadata": {},
   "outputs": [
    {
     "name": "stdout",
     "output_type": "stream",
     "text": [
      "media:1018.35\n",
      "intervalo de confiança: \n",
      "(828.4268163664804, 1208.2731836335197)\n"
     ]
    }
   ],
   "source": [
    "#calcular a matriz média                                               \n",
    "media = df[\"B\"].mean(axis=0)                                             \n",
    "print('media:{}'.format(media))                                            \n",
    "\n",
    "desvio_padrao = df[\"B\"].std(axis=0)                                          \n",
    "conf_int = scipy.stats.norm.interval(0.95, loc=media, scale=desvio_padrao) \n",
    "print(\"intervalo de confiança: \")\n",
    "print(conf_int)"
   ]
  },
  {
   "cell_type": "code",
   "execution_count": 16,
   "id": "47cea177",
   "metadata": {},
   "outputs": [],
   "source": [
    "import scipy.stats"
   ]
  },
  {
   "cell_type": "code",
   "execution_count": null,
   "id": "23bb49bb",
   "metadata": {},
   "outputs": [],
   "source": []
  }
 ],
 "metadata": {
  "kernelspec": {
   "display_name": "Python 3 (ipykernel)",
   "language": "python",
   "name": "python3"
  },
  "language_info": {
   "codemirror_mode": {
    "name": "ipython",
    "version": 3
   },
   "file_extension": ".py",
   "mimetype": "text/x-python",
   "name": "python",
   "nbconvert_exporter": "python",
   "pygments_lexer": "ipython3",
   "version": "3.9.7"
  }
 },
 "nbformat": 4,
 "nbformat_minor": 5
}
