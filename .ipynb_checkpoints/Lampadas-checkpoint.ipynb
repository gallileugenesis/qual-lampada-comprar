{
 "cells": [
  {
   "cell_type": "code",
   "execution_count": 1,
   "id": "4c16f91a",
   "metadata": {},
   "outputs": [],
   "source": [
    "# Importando as bibliotecas necessárias \n",
    "import pandas as pd\n",
    "import numpy as np\n",
    "from scipy.stats import t\n",
    "\n",
    "import matplotlib.pyplot as plt\n",
    "import seaborn as sns"
   ]
  },
  {
   "cell_type": "code",
   "execution_count": 2,
   "id": "6885e376",
   "metadata": {},
   "outputs": [
    {
     "name": "stdout",
     "output_type": "stream",
     "text": [
      "(40, 2)\n"
     ]
    },
    {
     "data": {
      "text/html": [
       "<div>\n",
       "<style scoped>\n",
       "    .dataframe tbody tr th:only-of-type {\n",
       "        vertical-align: middle;\n",
       "    }\n",
       "\n",
       "    .dataframe tbody tr th {\n",
       "        vertical-align: top;\n",
       "    }\n",
       "\n",
       "    .dataframe thead th {\n",
       "        text-align: right;\n",
       "    }\n",
       "</style>\n",
       "<table border=\"1\" class=\"dataframe\">\n",
       "  <thead>\n",
       "    <tr style=\"text-align: right;\">\n",
       "      <th></th>\n",
       "      <th>A</th>\n",
       "      <th>B</th>\n",
       "    </tr>\n",
       "  </thead>\n",
       "  <tbody>\n",
       "    <tr>\n",
       "      <th>0</th>\n",
       "      <td>684</td>\n",
       "      <td>819</td>\n",
       "    </tr>\n",
       "    <tr>\n",
       "      <th>1</th>\n",
       "      <td>831</td>\n",
       "      <td>907</td>\n",
       "    </tr>\n",
       "    <tr>\n",
       "      <th>2</th>\n",
       "      <td>859</td>\n",
       "      <td>952</td>\n",
       "    </tr>\n",
       "    <tr>\n",
       "      <th>3</th>\n",
       "      <td>893</td>\n",
       "      <td>994</td>\n",
       "    </tr>\n",
       "    <tr>\n",
       "      <th>4</th>\n",
       "      <td>922</td>\n",
       "      <td>1016</td>\n",
       "    </tr>\n",
       "  </tbody>\n",
       "</table>\n",
       "</div>"
      ],
      "text/plain": [
       "     A     B\n",
       "0  684   819\n",
       "1  831   907\n",
       "2  859   952\n",
       "3  893   994\n",
       "4  922  1016"
      ]
     },
     "execution_count": 2,
     "metadata": {},
     "output_type": "execute_result"
    }
   ],
   "source": [
    "# Carregando o banco de dados\n",
    "df = pd.read_excel('data/data-lampadas.xlsx', header=0)\n",
    "print(df.shape) # mostra as dimensões do banco de dados\n",
    "df.head() # mostra as 5 primeiras linhas do banco de dados"
   ]
  },
  {
   "cell_type": "code",
   "execution_count": 3,
   "id": "2288b476",
   "metadata": {},
   "outputs": [
    {
     "name": "stdout",
     "output_type": "stream",
     "text": [
      "<class 'pandas.core.frame.DataFrame'>\n",
      "RangeIndex: 40 entries, 0 to 39\n",
      "Data columns (total 2 columns):\n",
      " #   Column  Non-Null Count  Dtype\n",
      "---  ------  --------------  -----\n",
      " 0   A       40 non-null     int64\n",
      " 1   B       40 non-null     int64\n",
      "dtypes: int64(2)\n",
      "memory usage: 768.0 bytes\n"
     ]
    }
   ],
   "source": [
    "df.info() # mostra algumas informações básicas do banco de dados"
   ]
  },
  {
   "cell_type": "code",
   "execution_count": 4,
   "id": "6e0ed0d6",
   "metadata": {},
   "outputs": [
    {
     "data": {
      "text/html": [
       "<div>\n",
       "<style scoped>\n",
       "    .dataframe tbody tr th:only-of-type {\n",
       "        vertical-align: middle;\n",
       "    }\n",
       "\n",
       "    .dataframe tbody tr th {\n",
       "        vertical-align: top;\n",
       "    }\n",
       "\n",
       "    .dataframe thead th {\n",
       "        text-align: right;\n",
       "    }\n",
       "</style>\n",
       "<table border=\"1\" class=\"dataframe\">\n",
       "  <thead>\n",
       "    <tr style=\"text-align: right;\">\n",
       "      <th></th>\n",
       "      <th>A</th>\n",
       "      <th>B</th>\n",
       "    </tr>\n",
       "  </thead>\n",
       "  <tbody>\n",
       "    <tr>\n",
       "      <th>count</th>\n",
       "      <td>40.000000</td>\n",
       "      <td>40.000000</td>\n",
       "    </tr>\n",
       "    <tr>\n",
       "      <th>mean</th>\n",
       "      <td>909.650000</td>\n",
       "      <td>1018.350000</td>\n",
       "    </tr>\n",
       "    <tr>\n",
       "      <th>std</th>\n",
       "      <td>94.305165</td>\n",
       "      <td>96.901364</td>\n",
       "    </tr>\n",
       "    <tr>\n",
       "      <th>min</th>\n",
       "      <td>684.000000</td>\n",
       "      <td>819.000000</td>\n",
       "    </tr>\n",
       "    <tr>\n",
       "      <th>25%</th>\n",
       "      <td>857.250000</td>\n",
       "      <td>949.750000</td>\n",
       "    </tr>\n",
       "    <tr>\n",
       "      <th>50%</th>\n",
       "      <td>916.500000</td>\n",
       "      <td>1015.500000</td>\n",
       "    </tr>\n",
       "    <tr>\n",
       "      <th>75%</th>\n",
       "      <td>971.250000</td>\n",
       "      <td>1085.500000</td>\n",
       "    </tr>\n",
       "    <tr>\n",
       "      <th>max</th>\n",
       "      <td>1093.000000</td>\n",
       "      <td>1230.000000</td>\n",
       "    </tr>\n",
       "  </tbody>\n",
       "</table>\n",
       "</div>"
      ],
      "text/plain": [
       "                 A            B\n",
       "count    40.000000    40.000000\n",
       "mean    909.650000  1018.350000\n",
       "std      94.305165    96.901364\n",
       "min     684.000000   819.000000\n",
       "25%     857.250000   949.750000\n",
       "50%     916.500000  1015.500000\n",
       "75%     971.250000  1085.500000\n",
       "max    1093.000000  1230.000000"
      ]
     },
     "execution_count": 4,
     "metadata": {},
     "output_type": "execute_result"
    }
   ],
   "source": [
    "df.describe() # mostra algumas estatísticas do banco de dados"
   ]
  },
  {
   "cell_type": "code",
   "execution_count": 5,
   "id": "e71362f0",
   "metadata": {},
   "outputs": [
    {
     "data": {
      "image/png": "[encoded data removed]",
      "text/plain": [
       "<Figure size 576x432 with 1 Axes>"
      ]
     },
     "metadata": {
      "needs_background": "light"
     },
     "output_type": "display_data"
    }
   ],
   "source": [
    "# Plota um gráfico de coluna com as médias e desvios padrão de A e B \n",
    "fig, ax = plt.subplots(figsize=(8,6))\n",
    "\n",
    "sns.barplot(data=df)\n",
    "plt.ylabel('Tempo médio de duração (h)')\n",
    "plt.tight_layout()\n",
    "\n",
    "plt.savefig('figuras/tempo_medio.png')\n",
    "plt.show()"
   ]
  },
  {
   "cell_type": "code",
   "execution_count": 6,
   "id": "b365262f",
   "metadata": {},
   "outputs": [
    {
     "data": {
      "image/png": "[encoded data removed]",
      "text/plain": [
       "<Figure size 720x576 with 1 Axes>"
      ]
     },
     "metadata": {
      "needs_background": "light"
     },
     "output_type": "display_data"
    }
   ],
   "source": [
    "# Plota o boxplot dos dados\n",
    "\n",
    "fig, ax = plt.subplots(figsize=(10,8))\n",
    "\n",
    "sns.boxplot(data=df)\n",
    "\n",
    "plt.ylabel('Tempo de duração (h)')  \n",
    "\n",
    "plt.savefig('figuras/boxplot.png')\n",
    "\n",
    "plt.show()"
   ]
  },
  {
   "cell_type": "code",
   "execution_count": 7,
   "id": "ce2ffe17",
   "metadata": {},
   "outputs": [
    {
     "data": {
      "image/png": "[encoded data removed]",
      "text/plain": [
       "<Figure size 720x576 with 1 Axes>"
      ]
     },
     "metadata": {
      "needs_background": "light"
     },
     "output_type": "display_data"
    }
   ],
   "source": [
    "# Plota o histograma dos dados\n",
    "fig, ax = plt.subplots(figsize=(10,8))\n",
    "\n",
    "sns.histplot(df, kde=True)\n",
    "\n",
    "ax.set_xlabel('Tempo de duração')\n",
    "\n",
    "plt.savefig('figuras/hist.png')\n",
    "plt.show()"
   ]
  },
  {
   "cell_type": "code",
   "execution_count": 32,
   "id": "3cab04a4",
   "metadata": {},
   "outputs": [],
   "source": [
    "# Função para cálculo do intervalo de confiança\n",
    "def IC(df, C):\n",
    "    # recebemos os dados e o nível de confiança que desejamos\n",
    "    media = df.mean(axis=0) # média \n",
    "    std = df.std(axis=0) # desvio padrão\n",
    "    dof = len(df)-1 # graus de liberdade\n",
    "    t_crit = np.abs(t.ppf((1-C)/2,dof)) # cálculo do t crítico\n",
    "    \n",
    "    intervalo_inf = round(media-std*t_crit/np.sqrt(len(df)),2)\n",
    "    intervalo_sup = round(media+std*t_crit/np.sqrt(len(df)),2)\n",
    "                                                  \n",
    "    return intervalo_inf, intervalo_sup # intervalos de confiança\n",
    "    "
   ]
  },
  {
   "cell_type": "code",
   "execution_count": 33,
   "id": "4060a5da",
   "metadata": {
    "scrolled": false
   },
   "outputs": [
    {
     "data": {
      "text/plain": [
       "(879.49, 939.81)"
      ]
     },
     "execution_count": 33,
     "metadata": {},
     "output_type": "execute_result"
    }
   ],
   "source": [
    "# Para as lâmpadas A\n",
    "IC(df['A'], 0.95)"
   ]
  },
  {
   "cell_type": "code",
   "execution_count": 34,
   "id": "b3aefb40",
   "metadata": {
    "scrolled": true
   },
   "outputs": [
    {
     "data": {
      "text/plain": [
       "(987.36, 1049.34)"
      ]
     },
     "execution_count": 34,
     "metadata": {},
     "output_type": "execute_result"
    }
   ],
   "source": [
    "# Para as lâmpadas B\n",
    "IC(df['B'], 0.95)"
   ]
  }
 ],
 "metadata": {
  "kernelspec": {
   "display_name": "Python 3 (ipykernel)",
   "language": "python",
   "name": "python3"
  },
  "language_info": {
   "codemirror_mode": {
    "name": "ipython",
    "version": 3
   },
   "file_extension": ".py",
   "mimetype": "text/x-python",
   "name": "python",
   "nbconvert_exporter": "python",
   "pygments_lexer": "ipython3",
   "version": "3.9.7"
  }
 },
 "nbformat": 4,
 "nbformat_minor": 5
}
